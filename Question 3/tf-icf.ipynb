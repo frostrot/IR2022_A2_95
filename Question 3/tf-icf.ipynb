{
 "cells": [
  {
   "cell_type": "code",
   "execution_count": 127,
   "metadata": {},
   "outputs": [
    {
     "name": "stderr",
     "output_type": "stream",
     "text": [
      "[nltk_data] Downloading package stopwords to\n",
      "[nltk_data]     /Users/frostrot/nltk_data...\n",
      "[nltk_data]   Package stopwords is already up-to-date!\n"
     ]
    }
   ],
   "source": [
    "#importing neccesary files\n",
    "import nltk\n",
    "import io\n",
    "import re\n",
    "import zipfile\n",
    "import math\n",
    "from tqdm import tqdm\n",
    "import pickle as pkl\n",
    "import numpy as np\n",
    "from random import shuffle\n",
    "import nltk\n",
    "from nltk.corpus import stopwords\n",
    "from nltk.tokenize import word_tokenize\n",
    "from nltk.stem import PorterStemmer\n",
    "from sklearn.model_selection import train_test_split\n",
    "from collections import Counter\n",
    "import string\n",
    "nltk.download('stopwords')\n",
    "import warnings\n",
    "warnings.filterwarnings(\"ignore\")"
   ]
  },
  {
   "cell_type": "markdown",
   "metadata": {},
   "source": [
    "### Loading dataset"
   ]
  },
  {
   "cell_type": "code",
   "execution_count": 36,
   "metadata": {},
   "outputs": [
    {
     "name": "stdout",
     "output_type": "stream",
     "text": [
      "Data collected from 5000 files\n",
      "0 files had error\n"
     ]
    }
   ],
   "source": [
    "archive = zipfile.ZipFile('../20_newsgroups.zip', 'r')\n",
    "data = []\n",
    "error_files = []\n",
    "file_list = archive.namelist()\n",
    "\n",
    "for filename in file_list:\n",
    "    try:\n",
    "        if str(filename).split('/')[1] in ['comp.graphics','sci.med','talk.politics.misc','rec.sport.hockey','sci.space'] and str(filename).split('/')[2]!='':\n",
    "            with archive.open(filename,'r') as f:\n",
    "                name = str(filename).split('/')[1]+\"/\"+str(filename).split('/')[2]\n",
    "                textlist = []\n",
    "                for line in io.TextIOWrapper(f,'latin-1'):\n",
    "                    textlist.append(line)\n",
    "                content = \" \".join(textlist)\n",
    "                data.append({'file':name,'content':content})\n",
    "    except Exception as e:\n",
    "        print(e)\n",
    "        error_files.append(str(filename))\n",
    "\n",
    "print(f\"Data collected from {len(data)} files\")\n",
    "print(f\"{len(error_files)} files had error\")"
   ]
  },
  {
   "cell_type": "markdown",
   "metadata": {},
   "source": [
    "### Filtering"
   ]
  },
  {
   "cell_type": "code",
   "execution_count": 25,
   "metadata": {},
   "outputs": [],
   "source": [
    "#Remove emojis from the text, if any present\n",
    "\n",
    "def remove_emoji(text):\n",
    "    emoji_pattern = re.compile(\"[\"\n",
    "        u\"\\U0001F600-\\U0001F64F\"\n",
    "        u\"\\U0001F300-\\U0001F5FF\"  \n",
    "        u\"\\U0001F680-\\U0001F6FF\" \n",
    "        u\"\\U0001F1E0-\\U0001F1FF\"  \n",
    "        u\"\\U0001F1F2-\\U0001F1F4\"  \n",
    "        u\"\\U0001F1E6-\\U0001F1FF\" \n",
    "        u\"\\U0001F600-\\U0001F64F\"\n",
    "        u\"\\U00002702-\\U000027B0\"\n",
    "        u\"\\U000024C2-\\U0001F251\"\n",
    "        u\"\\U0001f926-\\U0001f937\"\n",
    "        u\"\\U0001F1F2\"\n",
    "        u\"\\U0001F1F4\"\n",
    "        u\"\\U0001F620\"\n",
    "        u\"\\u200d\"\n",
    "        u\"\\u2640-\\u2642\"\n",
    "        \"]+\", flags=re.UNICODE)\n",
    "    text = emoji_pattern.sub(r'', text)\n",
    "    return text"
   ]
  },
  {
   "cell_type": "code",
   "execution_count": 20,
   "metadata": {},
   "outputs": [],
   "source": [
    "def stemming(text):\n",
    "    x = text.split(\" \")\n",
    "    ps = PorterStemmer()\n",
    "    return \" \".join([ps.stem(i) for i in x])"
   ]
  },
  {
   "cell_type": "code",
   "execution_count": 23,
   "metadata": {},
   "outputs": [],
   "source": [
    "#Remove all the article connector present in the text\n",
    "\n",
    "def remove_art_connector(text):\n",
    "  article = [\"CAN\",\"IS\",\"HIS\",\"MORE\",\"WHO\",\"ABOUT\",\"THEIR\",\"OUR\",\"HAS\",\"WHO\",\"GET\",\"THEM\",\"WHAT\",\"OUT\",\"FROM\",\"HAVE\",\"HERE\",\"WE\",\"ALL\",\"THERE\",\"TO\",\"ALSO\",\"AND\",\"AS\",\"BUT\",\"YET\",\"YOU\",\"THE\",\"WAS\",\"FOR\",\"ARE\",\"THEY\",\"THIS\",\"THAT\",\"WERE\",\"WITH\",\"YOUR\",\"JUST\",\"WILL\",\"NOT\"]\n",
    "  ans=[]\n",
    "  for word in text:\n",
    "    if word.strip() not in article:\n",
    "      ans.append(word)\n",
    "  return ans\t\t"
   ]
  },
  {
   "cell_type": "code",
   "execution_count": 24,
   "metadata": {},
   "outputs": [],
   "source": [
    "#Remove Punctuations from the text\n",
    "\n",
    "def remove_punc(tokens):\n",
    "  table = string.punctuation\n",
    "  ptokens = []\n",
    "  for w in tokens:\n",
    "    if w not in table:\n",
    "      ptokens.append(w)\n",
    "  ptokens = [s for s in ptokens if s]\n",
    "  ptokens = [re.sub(r\"[\\n\\t]+\",\" \",s) for s in ptokens]\n",
    "  return ptokens"
   ]
  },
  {
   "cell_type": "code",
   "execution_count": 21,
   "metadata": {},
   "outputs": [],
   "source": [
    "#Remove stopwords, and convert shorted words into there extended forms\n",
    "\n",
    "def stopword(text):\n",
    "  EXTENDED_FORMS = {\"aren't\": 'are not', \"can't\": 'cannot', \"couldn't\": 'could not', \"didn't\": 'did not', \"doesn't\": 'does not', \"don't\": 'do not', \"hadn't\": 'had not', \"hasn't\": 'has not', \"haven't\": 'have not', \"he'd\": 'he would', \"he'll\": 'he will', \"he's\": 'he is', \"i'd\": 'i would', \"i'll\": 'i will', \"i'm\": 'i am', \"isn't\": 'is not', \"it's\": 'it is', \"it'll\": 'it will', \"i've\": 'i have', \"let's\": 'let us', \"mightn't\": 'might not', \"mustn't\": 'must not',\"n't\": 'not', \"shan't\": 'shall not', \"she'd\": 'she would', \"she'll\": 'she will', \"she's\": 'she is', \"shouldn't\": 'should not', \"that's\": 'that is', \"there's\": 'there is', \"they'd\": 'they would', \"they'll\": 'they will', \"they're\": 'they are', \"they've\": 'they have', \"we'd\": 'we would', \"we're\": 'we are', \"weren't\": 'were not', \"we've\": 'we have', \"what'll\": 'what will', \"what're\": 'what are', \"what's\": 'what is', \"what've\": 'what have', \"where's\": 'where is', \"who'd\": 'who would', \"who'll\": 'who will', \"who're\": 'who are', \"who's\": 'who is', \"who've\": 'who have', \"won't\": 'will not', \"wouldn't\": 'would not', \"you'd\": 'you would', \"you'll\": 'you will', \"you're\": 'you are', \"you've\": 'you have', \"'re\": ' are', \"wasn't\": 'was not', \"we'll\": 'we will', \"'cause\": 'because', \"could've\": 'could have', \"how'd\": 'how did', \"how'd'y\": 'how do you', \"how'll\": 'how will', \"how's\": 'how is', \"I'd\": 'I would', \"I'd've\": 'I would have', \"I'll\": 'I will', \"I'll've\": 'I will have', \"I'm\": 'I am', \"I've\": 'I have', \"i'd've\": 'i would have', \"i'll've\": 'i will have', \"it'd\": 'it would', \"it'd've\": 'it would have', \"it'll've\": 'it will have', \"ma'am\": 'madam', \"mayn't\": 'may not', \"might've\": 'might have', \"mightn't've\": 'might not have', \"must've\": 'must have', \"mustn't've\": 'must not have', \"needn't\": 'need not', \"needn't've\": 'need not have', \"o'clock\": 'of the clock', \"oughtn't\": 'ought not', \"oughtn't've\": 'ought not have', \"sha'n't\": 'shall not', \"shan't've\": 'shall not have', \"she'd've\": 'she would have', \"she'll've\": 'she will have', \"should've\": 'should have', \"shouldn't've\": 'should not have', \"so've\": 'so have', \"so's\": 'so as', \"this's\": 'this is', \"that'd\": 'that would', \"that'd've\": 'that would have', \"there'd\": 'there would', \"there'd've\": 'there would have', \"here's\": 'here is', \"they'd've\": 'they would have', \"they'll've\": 'they will have', \"to've\": 'to have', \"we'd've\": 'we would have', \"we'll've\": 'we will have', \"what'll've\": 'what will have', \"when's\": 'when is', \"when've\": 'when have', \"where'd\": 'where did', \"where've\": 'where have', \"who'll've\": 'who will have', \"why's\": 'why is', \"why've\": 'why have', \"will've\": 'will have', \"won't've\": 'will not have', \"would've\": 'would have', \"wouldn't've\": 'would not have', \"y'all\": 'you all', \"y'all'd\": 'you all would', \"y'all'd've\": 'you all would have', \"y'all're\": 'you all are', \"y'all've\": 'you all have', \"you'd've\": 'you would have', \"you'll've\": 'you will have'}\n",
    "  x= word_tokenize(text)\n",
    "  for i in range(len(x)):\n",
    "    if x[i] in EXTENDED_FORMS:\n",
    "      x[i] = EXTENDED_FORMS[x[i]]\n",
    "    if x[i] in stopwords.words('english'):\n",
    "      x[i]=''\n",
    "  x=remove_punc(x)\n",
    "  x=remove_art_connector(x)\n",
    "  return \" \".join(x)"
   ]
  },
  {
   "cell_type": "code",
   "execution_count": 40,
   "metadata": {},
   "outputs": [],
   "source": [
    "#Filter the parsed text, by, converting them into lowercase, removing any tags, extra spaces.\n",
    "def filter(item):\n",
    "  global vocab\n",
    "  if type(item)==str:\n",
    "    item=item.lower()\n",
    "    item=re.sub('[#@]\\w+\\s*',\"\",item)\n",
    "    item=re.sub(r'\\\\N','',item)\n",
    "    item=remove_emoji(item)\n",
    "    item=stopword(item)\n",
    "    item=stemming(item)\n",
    "    item = word_tokenize(item)\n",
    "    item = Counter(item)\n",
    "  return item"
   ]
  },
  {
   "cell_type": "markdown",
   "metadata": {},
   "source": [
    "### TF-ICF and Selecting Top-K features"
   ]
  },
  {
   "cell_type": "code",
   "execution_count": 122,
   "metadata": {},
   "outputs": [],
   "source": [
    "def posting_class(data):\n",
    "    nested_posting_list = {}\n",
    "\n",
    "    for files in data:\n",
    "        for words in files['filtered_content']:\n",
    "            if words in nested_posting_list:\n",
    "                if files['file'].split('/')[0] in nested_posting_list[words]:\n",
    "                    nested_posting_list[words][files['file'].split('/')[0]]+=1\n",
    "                else:\n",
    "                    nested_posting_list[words][files['file'].split('/')[0]]=1\n",
    "            else:\n",
    "                nested_posting_list[words]={}\n",
    "                nested_posting_list[words][files['file'].split('/')[0]]=1\n",
    "    \n",
    "    return nested_posting_list"
   ]
  },
  {
   "cell_type": "code",
   "execution_count": 63,
   "metadata": {},
   "outputs": [],
   "source": [
    "def CF(data,posting_list):\n",
    "    cf = {}\n",
    "    total_classes = 5\n",
    "\n",
    "    for word in posting_list:\n",
    "        cf[word] = math.log(total_classes/len(posting_list[word]))\n",
    "    return cf"
   ]
  },
  {
   "cell_type": "code",
   "execution_count": 133,
   "metadata": {},
   "outputs": [
    {
     "name": "stderr",
     "output_type": "stream",
     "text": [
      "100%|██████████| 5000/5000 [05:52<00:00, 14.18it/s]\n"
     ]
    },
    {
     "name": "stdout",
     "output_type": "stream",
     "text": [
      "2500 2500\n",
      "3500 1500\n",
      "4000 1000\n"
     ]
    }
   ],
   "source": [
    "for files in tqdm(data):\n",
    "    files['filtered_content'] = filter(files['content'])\n",
    "n = len(data)\n",
    "\n",
    "for split in [50,70,80]:\n",
    "    shuffle(data)\n",
    "    train_data,test_data = data[:int(split*n/100)],data[int(split*n/100):]\n",
    "    print(len(train_data),len(test_data))\n",
    "    \n",
    "    pkl.dump(train_data,open(f'./pickle_files/train_data_{split}.pkl','wb'))\n",
    "    pkl.dump(test_data,open(f'./pickle_files/test_data_{split}.pkl','wb'))\n",
    "    "
   ]
  },
  {
   "cell_type": "markdown",
   "metadata": {},
   "source": [
    "### Naive Bayes"
   ]
  },
  {
   "cell_type": "code",
   "execution_count": 134,
   "metadata": {},
   "outputs": [],
   "source": [
    "class NaiveBayes:\n",
    "    \n",
    "    def __init__(self, features, labels):\n",
    "        self.labelCount = {l: 0 for l in labels}\n",
    "        self.features = {f: {} for f in range(features)}\n",
    "        self.labelFeatures = {l : {f : {} for f in range(features)} for l in labels}\n",
    "    \n",
    "    def fit(self, X, y):\n",
    "        for label in y:\n",
    "            self.labelCount[int(label)] += 1\n",
    "        \n",
    "        for x, label in zip(X, y):\n",
    "            for i, val in enumerate(x):\n",
    "                self.features[i][val] = self.features[i].get(val, 0) + 1\n",
    "                self.labelFeatures[label][i][val] = self.labelFeatures[label][i].get(val, 0) + 1\n",
    "        \n",
    "        self.totalSamples = len(X)\n",
    "        \n",
    "    def predict(self, X):\n",
    "        y = [0] * len(X)\n",
    "        \n",
    "        for i, x in enumerate(X):\n",
    "#             scores = [0] * len(self.labelCount)\n",
    "            maxScore = 0\n",
    "            for l in self.labelCount:\n",
    "                score = 1\n",
    "                for j, val in enumerate(x):\n",
    "                    score *= ((self.labelFeatures[l][j].get(val, 0)/self.labelCount[l]) * (self.labelCount[l]/self.totalSamples) / (self.features[j][val]/self.totalSamples))\n",
    "                if score > maxScore:\n",
    "                    maxScore = score\n",
    "                    y[i] = l\n",
    "        return y\n",
    "\n",
    "    def score(self,y,pred_y):\n",
    "        accuracy = 0\n",
    "        total = 0\n",
    "        for i in range(len(y)):\n",
    "            if y[i]==pred_y[i]:\n",
    "                accuracy+=1\n",
    "            total+=1\n",
    "        return 100*accuracy/total"
   ]
  },
  {
   "cell_type": "code",
   "execution_count": 138,
   "metadata": {},
   "outputs": [
    {
     "name": "stdout",
     "output_type": "stream",
     "text": [
      "For Split 50:50 ------------------------------\n",
      "Top K features for each class are ----------------\n",
      "['talk.politics.misc', 'ca.polit', 'cramer', 'soc.men', 'cramer.com']\n",
      "['sci.m', 'geb.pitt.edu', 'rec.food.cook', 'n3jxp', 'chastiti']\n",
      "['sci.spac', 'sci.astro', 'henry.toronto.edu', 'prb.digex.com', 'spacecraft']\n",
      "['comp.graph', 'comp.graphics.anim', 'vga', 'polygon', 'tiff']\n",
      "['rec.sport.hockey', 'nhl', 'hockey', 'playoff', 'bruin']\n",
      "---------------------------------------------------\n",
      "The accuracy of the Model is-  99.56\n",
      "Confusion Matrix is- \n",
      "[503.   0.   1.   0.   0.]\n",
      "[  2. 488.   0.   0.   0.]\n",
      "[  1.   1. 479.   0.   0.]\n",
      "[  2.   3.   1. 521.   0.]\n",
      "[  0.   0.   0.   0. 498.]\n",
      "---------------------------------------------------\n",
      "For Split 70:30 ------------------------------\n",
      "Top K features for each class are ----------------\n",
      "['talk.politics.misc', 'ca.polit', 'talk.religion.misc', 'clayton', 'cramer']\n",
      "['sci.m', 'geb.pitt.edu', 'n3jxp', 'chastiti', 'geb.dsl.pitt.edu']\n",
      "['sci.spac', 'sci.astro', 'spacecraft', 'henry.toronto.edu', 'orbit']\n",
      "['comp.graph', 'comp.graphics.anim', 'vga', 'tiff', 'polygon']\n",
      "['rec.sport.hockey', 'nhl', 'hockey', 'playoff', 'bruin']\n",
      "---------------------------------------------------\n",
      "The accuracy of the Model is-  99.46666666666667\n",
      "Confusion Matrix is- \n",
      "[314.   0.   0.   0.   0.]\n",
      "[  1. 302.   0.   3.   0.]\n",
      "[  1.   0. 299.   0.   0.]\n",
      "[  2.   0.   1. 269.   0.]\n",
      "[  0.   0.   0.   0. 308.]\n",
      "---------------------------------------------------\n",
      "For Split 80:20 ------------------------------\n",
      "Top K features for each class are ----------------\n",
      "['talk.politics.misc', 'ca.polit', 'cramer', 'talk.religion.misc', 'cramer.com']\n",
      "['sci.m', 'geb.pitt.edu', 'rec.food.cook', 'n3jxp', 'chastiti']\n",
      "['sci.spac', 'henry.toronto.edu', 'sci.astro', 'nsmca.alaska.edu', 'orbit']\n",
      "['comp.graph', 'comp.graphics.anim', 'vga', 'polygon', 'pov']\n",
      "['rec.sport.hockey', 'nhl', 'hockey', 'playoff', 'bruin']\n",
      "---------------------------------------------------\n",
      "The accuracy of the Model is-  99.8\n",
      "Confusion Matrix is- \n",
      "[192.   0.   1.   0.   0.]\n",
      "[  0. 200.   1.   0.   0.]\n",
      "[  0.   0. 193.   0.   0.]\n",
      "[  0.   0.   0. 198.   0.]\n",
      "[  0.   0.   0.   0. 215.]\n",
      "---------------------------------------------------\n"
     ]
    }
   ],
   "source": [
    "for split in [50,70,80]:\n",
    "    print(f\"For Split {split}:{100-split} ------------------------------\")\n",
    "    with open(f'./pickle_files/train_data_{split}.pkl','rb') as f:\n",
    "        train_data = pkl.load(f)\n",
    "\n",
    "    posting_list = posting_class(train_data)\n",
    "    cf = CF(train_data,posting_list)\n",
    "\n",
    "    for word in posting_list:\n",
    "        for classes in posting_list[word]:\n",
    "            posting_list[word][classes]*=cf[word]\n",
    "    \n",
    "    for word in posting_list:\n",
    "        if 'talk.politics.misc' not in posting_list[word]:\n",
    "            posting_list[word]['talk.politics.misc']=-1\n",
    "        if 'sci.med' not in posting_list[word]:\n",
    "            posting_list[word]['sci.med']=-1\n",
    "        if 'sci.space' not in posting_list[word]:\n",
    "            posting_list[word]['sci.space']=-1\n",
    "        if 'comp.graphics' not in posting_list[word]:\n",
    "            posting_list[word]['comp.graphics']=-1\n",
    "        if 'rec.sport.hockey' not in posting_list[word]:\n",
    "            posting_list[word]['rec.sport.hockey']=-1\n",
    "\n",
    "    k=5\n",
    "    top_k_politics = [x[0] for x in sorted(posting_list.items(),key=lambda x:x[1]['talk.politics.misc'],reverse=True)[:k]]\n",
    "    top_k_scimed = [x[0] for x in sorted(posting_list.items(),key=lambda x:x[1]['sci.med'],reverse=True)[:k]]\n",
    "    top_k_scispace = [x[0] for x in sorted(posting_list.items(),key=lambda x:x[1]['sci.space'],reverse=True)[:k]]\n",
    "    top_k_compgraphics = [x[0] for x in sorted(posting_list.items(),key=lambda x:x[1]['comp.graphics'],reverse=True)[:k]]\n",
    "    top_k_recsporthockey = [x[0] for x in sorted(posting_list.items(),key=lambda x:x[1]['rec.sport.hockey'],reverse=True)[:k]]\n",
    "\n",
    "    print(\"Top K features for each class are ----------------\")\n",
    "    print(top_k_politics)\n",
    "    print(top_k_scimed)\n",
    "    print(top_k_scispace)\n",
    "    print(top_k_compgraphics)\n",
    "    print(top_k_recsporthockey)\n",
    "    print(\"---------------------------------------------------\")\n",
    "    vocab = list(set(top_k_politics+top_k_scimed+top_k_scispace+top_k_compgraphics+top_k_recsporthockey))\n",
    "\n",
    "    with open(f'./pickle_files/test_data_{split}.pkl','rb') as f:\n",
    "        test_data = pkl.load(f)\n",
    "    \n",
    "    # print(len(train_data),len(test_data))\n",
    "    train_X = np.zeros((len(train_data),5*k))\n",
    "    test_X = np.zeros((len(test_data),k*5))\n",
    "\n",
    "    train_y = np.zeros((len(train_data),))\n",
    "    test_y = np.zeros((len(test_data),))\n",
    "    # print(train_y.shape)\n",
    "    class_map = {'talk.politics.misc':0,'sci.med':1,'sci.space':2,'comp.graphics':3,'rec.sport.hockey':4}\n",
    "\n",
    "    for i,value in enumerate(train_data):\n",
    "        for j,voc in enumerate(vocab):\n",
    "            if voc in value['filtered_content']:\n",
    "                train_X[i][j]=1\n",
    "        train_y[i] = class_map[value['file'].split('/')[0]]\n",
    "\n",
    "    for i,value in enumerate(test_data):\n",
    "        for j,voc in enumerate(vocab):\n",
    "            if voc in value['filtered_content']:\n",
    "                test_X[i][j]=1\n",
    "        test_y[i] = class_map[value['file'].split('/')[0]]\n",
    "\n",
    "    train_y = train_y.astype(int)    \n",
    "    test_y = test_y.astype(int)\n",
    "\n",
    "    model = NaiveBayes(5*k,[0,1,2,3,4])\n",
    "    model.fit(train_X,train_y)\n",
    "    y_pred = model.predict(test_X)\n",
    "    score = model.score(test_y,y_pred)\n",
    "    print(\"The accuracy of the Model is- \", end=\" \")\n",
    "    print(score)\n",
    "\n",
    "    confusion_matrix = np.zeros((k,k))\n",
    "    for i in range(len(test_y)):\n",
    "        confusion_matrix[test_y[i]][y_pred[i]]+=1\n",
    "\n",
    "    print(\"Confusion Matrix is- \")\n",
    "    for value in confusion_matrix:\n",
    "        print(value)\n",
    "    print(\"---------------------------------------------------\")\n",
    "    \n",
    "    \n",
    "\n",
    "\n",
    "    \n",
    "    "
   ]
  }
 ],
 "metadata": {
  "interpreter": {
   "hash": "f1cbb85fbb159a91b512923319bfb5d4c6de1269d10ca612a23b6e07a28361c8"
  },
  "kernelspec": {
   "display_name": "Python 3.8.12 ('base')",
   "language": "python",
   "name": "python3"
  },
  "language_info": {
   "codemirror_mode": {
    "name": "ipython",
    "version": 3
   },
   "file_extension": ".py",
   "mimetype": "text/x-python",
   "name": "python",
   "nbconvert_exporter": "python",
   "pygments_lexer": "ipython3",
   "version": "3.8.12"
  },
  "orig_nbformat": 4
 },
 "nbformat": 4,
 "nbformat_minor": 2
}
