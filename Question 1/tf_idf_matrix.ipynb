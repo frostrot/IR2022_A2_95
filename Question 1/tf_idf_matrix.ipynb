{
 "cells": [
  {
   "cell_type": "code",
   "execution_count": 7,
   "metadata": {},
   "outputs": [
    {
     "name": "stderr",
     "output_type": "stream",
     "text": [
      "[nltk_data] Downloading package stopwords to\n",
      "[nltk_data]     /Users/frostrot/nltk_data...\n",
      "[nltk_data]   Package stopwords is already up-to-date!\n"
     ]
    }
   ],
   "source": [
    "#importing neccesary files\n",
    "\n",
    "from ipynb.fs.defs.jaccard_coefficient import remove_punc, remove_art_connector, remove_emoji\n",
    "import nltk\n",
    "import re\n",
    "from tqdm import tqdm\n",
    "import math\n",
    "import numpy as np\n",
    "import pickle as pkl\n",
    "import joblib\n",
    "import nltk\n",
    "from nltk.tokenize import word_tokenize\n",
    "from nltk.stem import PorterStemmer\n",
    "from nltk.corpus import stopwords\n",
    "from collections import Counter\n",
    "nltk.download('stopwords')\n",
    "import warnings\n",
    "warnings.filterwarnings(\"ignore\")"
   ]
  },
  {
   "cell_type": "markdown",
   "metadata": {},
   "source": [
    "### Filtering"
   ]
  },
  {
   "cell_type": "code",
   "execution_count": 8,
   "metadata": {},
   "outputs": [],
   "source": [
    "def stemming(text):\n",
    "    x = text.split(\" \")\n",
    "    ps = PorterStemmer()\n",
    "    return \" \".join([ps.stem(i) for i in x])"
   ]
  },
  {
   "cell_type": "code",
   "execution_count": 9,
   "metadata": {},
   "outputs": [],
   "source": [
    "#Remove stopwords, and convert shorted words into there extended forms\n",
    "\n",
    "def stopword(text):\n",
    "  EXTENDED_FORMS = {\"aren't\": 'are not', \"can't\": 'cannot', \"couldn't\": 'could not', \"didn't\": 'did not', \"doesn't\": 'does not', \"don't\": 'do not', \"hadn't\": 'had not', \"hasn't\": 'has not', \"haven't\": 'have not', \"he'd\": 'he would', \"he'll\": 'he will', \"he's\": 'he is', \"i'd\": 'i would', \"i'll\": 'i will', \"i'm\": 'i am', \"isn't\": 'is not', \"it's\": 'it is', \"it'll\": 'it will', \"i've\": 'i have', \"let's\": 'let us', \"mightn't\": 'might not', \"mustn't\": 'must not',\"n't\": 'not', \"shan't\": 'shall not', \"she'd\": 'she would', \"she'll\": 'she will', \"she's\": 'she is', \"shouldn't\": 'should not', \"that's\": 'that is', \"there's\": 'there is', \"they'd\": 'they would', \"they'll\": 'they will', \"they're\": 'they are', \"they've\": 'they have', \"we'd\": 'we would', \"we're\": 'we are', \"weren't\": 'were not', \"we've\": 'we have', \"what'll\": 'what will', \"what're\": 'what are', \"what's\": 'what is', \"what've\": 'what have', \"where's\": 'where is', \"who'd\": 'who would', \"who'll\": 'who will', \"who're\": 'who are', \"who's\": 'who is', \"who've\": 'who have', \"won't\": 'will not', \"wouldn't\": 'would not', \"you'd\": 'you would', \"you'll\": 'you will', \"you're\": 'you are', \"you've\": 'you have', \"'re\": ' are', \"wasn't\": 'was not', \"we'll\": 'we will', \"'cause\": 'because', \"could've\": 'could have', \"how'd\": 'how did', \"how'd'y\": 'how do you', \"how'll\": 'how will', \"how's\": 'how is', \"I'd\": 'I would', \"I'd've\": 'I would have', \"I'll\": 'I will', \"I'll've\": 'I will have', \"I'm\": 'I am', \"I've\": 'I have', \"i'd've\": 'i would have', \"i'll've\": 'i will have', \"it'd\": 'it would', \"it'd've\": 'it would have', \"it'll've\": 'it will have', \"ma'am\": 'madam', \"mayn't\": 'may not', \"might've\": 'might have', \"mightn't've\": 'might not have', \"must've\": 'must have', \"mustn't've\": 'must not have', \"needn't\": 'need not', \"needn't've\": 'need not have', \"o'clock\": 'of the clock', \"oughtn't\": 'ought not', \"oughtn't've\": 'ought not have', \"sha'n't\": 'shall not', \"shan't've\": 'shall not have', \"she'd've\": 'she would have', \"she'll've\": 'she will have', \"should've\": 'should have', \"shouldn't've\": 'should not have', \"so've\": 'so have', \"so's\": 'so as', \"this's\": 'this is', \"that'd\": 'that would', \"that'd've\": 'that would have', \"there'd\": 'there would', \"there'd've\": 'there would have', \"here's\": 'here is', \"they'd've\": 'they would have', \"they'll've\": 'they will have', \"to've\": 'to have', \"we'd've\": 'we would have', \"we'll've\": 'we will have', \"what'll've\": 'what will have', \"when's\": 'when is', \"when've\": 'when have', \"where'd\": 'where did', \"where've\": 'where have', \"who'll've\": 'who will have', \"why's\": 'why is', \"why've\": 'why have', \"will've\": 'will have', \"won't've\": 'will not have', \"would've\": 'would have', \"wouldn't've\": 'would not have', \"y'all\": 'you all', \"y'all'd\": 'you all would', \"y'all'd've\": 'you all would have', \"y'all're\": 'you all are', \"y'all've\": 'you all have', \"you'd've\": 'you would have', \"you'll've\": 'you will have'}\n",
    "  x= word_tokenize(text)\n",
    "  for i in range(len(x)):\n",
    "    if x[i] in EXTENDED_FORMS:\n",
    "      x[i] = EXTENDED_FORMS[x[i]]\n",
    "    if x[i] in stopwords.words('english'):\n",
    "      x[i]=''\n",
    "  x=remove_punc(x)\n",
    "  x=remove_art_connector(x)\n",
    "  return \" \".join(x)"
   ]
  },
  {
   "cell_type": "code",
   "execution_count": 10,
   "metadata": {},
   "outputs": [],
   "source": [
    "#Filter the parsed text, by, converting them into lowercase, removing any tags, extra spaces.\n",
    "vocab = set()\n",
    "def filter(item,b):\n",
    "  global vocab\n",
    "  if type(item)==str:\n",
    "    item=item.lower()\n",
    "    item=re.sub('[#@]\\w+\\s*',\"\",item)\n",
    "    item=re.sub(r'\\\\N','',item)\n",
    "    item=remove_emoji(item)\n",
    "    item=stopword(item)\n",
    "    item=stemming(item)\n",
    "    item = word_tokenize(item)\n",
    "    item = Counter(item)\n",
    "    if b:\n",
    "      for x in item.keys():\n",
    "        vocab.add(x)\n",
    "  return item"
   ]
  },
  {
   "cell_type": "code",
   "execution_count": 11,
   "metadata": {},
   "outputs": [],
   "source": [
    "with open('./pickle_files/data.pkl','rb') as f:\n",
    "    data = pkl.load(f)"
   ]
  },
  {
   "cell_type": "code",
   "execution_count": 12,
   "metadata": {},
   "outputs": [
    {
     "name": "stderr",
     "output_type": "stream",
     "text": [
      "100%|██████████| 1133/1133 [06:06<00:00,  3.09it/s]\n"
     ]
    }
   ],
   "source": [
    "for files in tqdm(data):\n",
    "    files['filtered_content'] = filter(files['content'],True)"
   ]
  },
  {
   "cell_type": "code",
   "execution_count": 13,
   "metadata": {},
   "outputs": [
    {
     "data": {
      "text/plain": [
       "71002"
      ]
     },
     "execution_count": 13,
     "metadata": {},
     "output_type": "execute_result"
    }
   ],
   "source": [
    "len(vocab)"
   ]
  },
  {
   "cell_type": "code",
   "execution_count": 14,
   "metadata": {},
   "outputs": [],
   "source": [
    "# Dumping in Pickle File\n",
    "\n",
    "pkl.dump(data,open('./pickle_files/data_2.pkl','wb'))\n",
    "pkl.dump(vocab,open('./pickle_files/vocab.pkl','wb'))"
   ]
  },
  {
   "cell_type": "markdown",
   "metadata": {},
   "source": [
    "### Loading data"
   ]
  },
  {
   "cell_type": "code",
   "execution_count": 15,
   "metadata": {},
   "outputs": [],
   "source": [
    "with open('./pickle_files/data_2.pkl','rb') as f:\n",
    "    data = pkl.load(f)\n",
    "\n",
    "with open('./pickle_files/vocab.pkl','rb') as f:\n",
    "    vocab = pkl.load(f)"
   ]
  },
  {
   "cell_type": "markdown",
   "metadata": {},
   "source": [
    "### Creating posting list"
   ]
  },
  {
   "cell_type": "code",
   "execution_count": 16,
   "metadata": {},
   "outputs": [
    {
     "name": "stderr",
     "output_type": "stream",
     "text": [
      "100%|██████████| 1133/1133 [00:00<00:00, 3175.51it/s]\n"
     ]
    }
   ],
   "source": [
    "nested_posting_list = {}\n",
    "\n",
    "for files in tqdm(data):\n",
    "    for words in files['filtered_content']:\n",
    "        if words in nested_posting_list:\n",
    "            if files['file'] in nested_posting_list[words]:\n",
    "                nested_posting_list[words][files['file']]+=1\n",
    "            else:\n",
    "                nested_posting_list[words][files['file']]=1\n",
    "        else:\n",
    "            nested_posting_list[words]={}\n",
    "            nested_posting_list[words][files['file']]=1"
   ]
  },
  {
   "cell_type": "code",
   "execution_count": 17,
   "metadata": {},
   "outputs": [],
   "source": [
    "idf = {}\n",
    "total_documents = len(data)\n",
    "\n",
    "for word in nested_posting_list:\n",
    "    idf[word] = math.log(total_documents/len(nested_posting_list[word])+1)"
   ]
  },
  {
   "cell_type": "code",
   "execution_count": 18,
   "metadata": {},
   "outputs": [
    {
     "name": "stderr",
     "output_type": "stream",
     "text": [
      "1133it [05:51,  3.22it/s]\n"
     ]
    }
   ],
   "source": [
    "corpus_matrix = np.zeros((total_documents,5,len(vocab)))\n",
    "\n",
    "vocab = list(vocab)\n",
    "\n",
    "for i,doc in tqdm(enumerate(data)):\n",
    "    for j,word in enumerate(vocab):\n",
    "        tf0 = 0\n",
    "        tf1 = 0\n",
    "        tf2 = 0\n",
    "        tf3 = 0\n",
    "        tf4 = 0.5\n",
    "        if doc['file'] in nested_posting_list[word]:\n",
    "            tf0 = 1\n",
    "            tf1 = nested_posting_list[word][doc['file']]\n",
    "            tf2 = tf1/sum(doc['filtered_content'].values())\n",
    "            tf3 = math.log(1+tf1)\n",
    "            tf4 = 0.5+0.5*(tf1/max(doc['filtered_content'].values()))\n",
    "\n",
    "        corpus_matrix[i][0][j] = tf0*idf[word]\n",
    "        corpus_matrix[i][1][j] = tf1*idf[word]\n",
    "        corpus_matrix[i][2][j] = tf2*idf[word]\n",
    "        corpus_matrix[i][3][j] = tf3*idf[word]\n",
    "        corpus_matrix[i][4][j] = tf4*idf[word]\n"
   ]
  },
  {
   "cell_type": "code",
   "execution_count": 19,
   "metadata": {},
   "outputs": [],
   "source": [
    "joblib.dump(corpus_matrix,open('./pickle_files/tf_idf_corpus.pkl','wb'),compress=9)"
   ]
  },
  {
   "cell_type": "markdown",
   "metadata": {},
   "source": [
    "### Quering\n"
   ]
  },
  {
   "cell_type": "code",
   "execution_count": 20,
   "metadata": {},
   "outputs": [],
   "source": [
    "with open('./pickle_files/tf_idf_corpus.pkl','rb') as f:\n",
    "    corpus_matrix = joblib.load(f)"
   ]
  },
  {
   "cell_type": "code",
   "execution_count": 21,
   "metadata": {},
   "outputs": [],
   "source": [
    "def cosine(x,y):\n",
    "    return x@y/((np.sum(x**2)**0.5)*(np.sum(y**2)**0.5))"
   ]
  },
  {
   "cell_type": "code",
   "execution_count": 23,
   "metadata": {},
   "outputs": [
    {
     "name": "stdout",
     "output_type": "stream",
     "text": [
      "{'love': {'query': 1}, 'eat': {'query': 1}, 'pizza': {'query': 1}}\n",
      "For Binary TF Weight\n",
      "caramels.des- 0.10125059109476077\n",
      "strsdiet.txt- 0.08785655110198817\n",
      "who.txt- 0.079241579032555\n",
      "fbipizza.txt- 0.07324150269229059\n",
      "focaccia.brd- 0.06840880059190871\n",
      "---------------------\n",
      "For Raw Count TF Weight\n",
      "caramels.des- 0.10125059109476077\n",
      "strsdiet.txt- 0.08785655110198817\n",
      "who.txt- 0.079241579032555\n",
      "fbipizza.txt- 0.07324150269229059\n",
      "focaccia.brd- 0.06840880059190871\n",
      "---------------------\n",
      "For TF Weight\n",
      "caramels.des- 0.10125059109476077\n",
      "strsdiet.txt- 0.08785655110198819\n",
      "who.txt- 0.07924157903255499\n",
      "fbipizza.txt- 0.0732415026922906\n",
      "focaccia.brd- 0.06840880059190872\n",
      "---------------------\n",
      "For Binary Log Normalization Weight\n",
      "caramels.des- 0.10125059109476078\n",
      "strsdiet.txt- 0.08785655110198817\n",
      "who.txt- 0.07924157903255499\n",
      "fbipizza.txt- 0.0732415026922906\n",
      "focaccia.brd- 0.06840880059190871\n",
      "---------------------\n",
      "For Double Normalization TF Weight\n",
      "aids.txt- 0.999997657659433\n",
      "bitnet.txt- 0.9999976575771227\n",
      "jokes- 0.9999976571649533\n",
      "letter.txt- 0.9999976568132941\n",
      "humor9.txt- 0.999997656633484\n",
      "---------------------\n"
     ]
    }
   ],
   "source": [
    "n = int(input(\"Enter the number of queries\"))\n",
    "\n",
    "for _ in range(n):\n",
    "    query = input(\"Enter the query sentence\")\n",
    "    query_posting_list = {}\n",
    "    cleaned_query = filter(query,False)\n",
    "\n",
    "    query_doc = {'file':'query'}\n",
    "    query_doc['filtered_content'] = cleaned_query\n",
    "    for value in cleaned_query:\n",
    "        query_posting_list[value] = {\"query\":cleaned_query[value]}\n",
    "    print(query_posting_list)\n",
    "\n",
    "    query_vector = np.zeros((1,5,len(vocab)))\n",
    "\n",
    "    for i,doc in enumerate([query_doc]):\n",
    "        for j,word in enumerate(vocab):\n",
    "            tf0 = 0\n",
    "            tf1 = 0\n",
    "            tf2 = 0\n",
    "            tf3 = 0\n",
    "            tf4 = 0.5\n",
    "            if word in query_posting_list:\n",
    "                tf0 = 1\n",
    "                tf1 = query_posting_list[word]['query']\n",
    "                tf2 = tf1/sum(query_doc['filtered_content'].values())\n",
    "                tf3 = math.log(1+tf1)\n",
    "                tf4 = 0.5+0.5*(tf1/max(query_doc['filtered_content'].values()))\n",
    "\n",
    "            query_vector[i][0][j] = tf0*idf[word]\n",
    "            query_vector[i][1][j] = tf1*idf[word]\n",
    "            query_vector[i][2][j] = tf2*idf[word]\n",
    "            query_vector[i][3][j] = tf3*idf[word]\n",
    "            query_vector[i][4][j] = tf4*idf[word]\n",
    "    \n",
    "    cosine_sim = {}\n",
    "\n",
    "    for i in range(len(corpus_matrix)):\n",
    "        cosine_sim[i]={}\n",
    "\n",
    "        cosine_sim[i][0] = cosine(query_vector[0][0],corpus_matrix[i][0])\n",
    "        cosine_sim[i][1] = cosine(query_vector[0][1],corpus_matrix[i][1])\n",
    "        cosine_sim[i][2] = cosine(query_vector[0][2],corpus_matrix[i][2])\n",
    "        cosine_sim[i][3] = cosine(query_vector[0][3],corpus_matrix[i][3])\n",
    "        cosine_sim[i][4] = cosine(query_vector[0][4],corpus_matrix[i][4])\n",
    "        # print(cosine_sim[i])\n",
    "    \n",
    "    tf0 = sorted(cosine_sim.items(),key=lambda x: x[1][0],reverse=True)\n",
    "    tf1 = sorted(cosine_sim.items(),key=lambda x: x[1][1],reverse=True)\n",
    "    tf2 = sorted(cosine_sim.items(),key=lambda x: x[1][2],reverse=True)\n",
    "    tf3 = sorted(cosine_sim.items(),key=lambda x: x[1][3],reverse=True)\n",
    "    tf4 = sorted(cosine_sim.items(),key=lambda x: x[1][4],reverse=True)\n",
    "\n",
    "    # print(tf1)\n",
    "\n",
    "    mapping = {0:\"For Binary TF Weight\",1:\"For Raw Count TF Weight\",2:\"For TF Weight\",3:\"For Binary Log Normalization Weight\",4:\"For Double Normalization TF Weight\"}\n",
    "    tf_mapping = {0:tf0,1:tf1,2:tf2,3:tf3,4:tf4}\n",
    "\n",
    "    for i in range(5):\n",
    "        print(mapping[i])\n",
    "        for j in range(5):\n",
    "            print(data[tf_mapping[i][j][0]]['file'],end=\"- \")\n",
    "            print(tf_mapping[i][j][1][i])\n",
    "        print(\"---------------------\")\n",
    "\n",
    "\n",
    "        \n",
    "    \n",
    "    "
   ]
  }
 ],
 "metadata": {
  "interpreter": {
   "hash": "f1cbb85fbb159a91b512923319bfb5d4c6de1269d10ca612a23b6e07a28361c8"
  },
  "kernelspec": {
   "display_name": "Python 3.8.12 ('base')",
   "language": "python",
   "name": "python3"
  },
  "language_info": {
   "codemirror_mode": {
    "name": "ipython",
    "version": 3
   },
   "file_extension": ".py",
   "mimetype": "text/x-python",
   "name": "python",
   "nbconvert_exporter": "python",
   "pygments_lexer": "ipython3",
   "version": "3.8.12"
  },
  "orig_nbformat": 4
 },
 "nbformat": 4,
 "nbformat_minor": 2
}
