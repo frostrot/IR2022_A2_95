{
  "cells": [
    {
      "cell_type": "code",
      "execution_count": 1,
      "metadata": {
        "id": "D1vCvPA-CMj4"
      },
      "outputs": [],
      "source": [
        "# Question : 2\n",
        "\n",
        "# importing libraries\n",
        "from collections import defaultdict\n",
        "from sklearn.metrics import PrecisionRecallDisplay\n",
        "import math\n",
        "import matplotlib.pyplot as plt"
      ]
    },
    {
      "cell_type": "code",
      "execution_count": 2,
      "metadata": {
        "id": "Lrmclemk8x5P"
      },
      "outputs": [],
      "source": [
        "# reading data\n",
        "with open(\"IR-assignment-2-data.txt\", \"r\") as file1:\n",
        "    FileasList = file1.readlines() # readlines \n",
        "    \n"
      ]
    },
    {
      "cell_type": "code",
      "execution_count": 3,
      "metadata": {
        "id": "1jW8tJZu_wvM"
      },
      "outputs": [],
      "source": [
        "# Question 2.2\n",
        "rel_row_full = [] # list to store (relevance, every row)\n",
        "rel_row_q4 = defaultdict(list) # dictionary with : key -> relevance, value -> full row\n",
        "rel_row_list_q4 = [] # list to store (relevance, every row) with qid = 4\n",
        "for line in FileasList:\n",
        "    col = line.split() # split and convert to list\n",
        "    rel_row_full.append([int(col[0]), col])  # store the relevance and row data\n",
        "    if col[1] == \"qid:4\": # given that qid:4\n",
        "        rel_row_q4[int(col[0])].append(col)\n",
        "        rel_row_list_q4.append([int(col[0]), col])\n"
      ]
    },
    {
      "cell_type": "code",
      "execution_count": 4,
      "metadata": {
        "colab": {
          "base_uri": "https://localhost:8080/"
        },
        "id": "erki3YqpCjiU",
        "outputId": "8e676b1a-7d35-43bb-f12a-41195869f6be"
      },
      "outputs": [
        {
          "name": "stdout",
          "output_type": "stream",
          "text": [
            "DCG for qid:4 =  20.989750804831445\n"
          ]
        }
      ],
      "source": [
        "rel_row_list_q4_sorted = reversed(sorted(rel_row_list_q4)) # sort in reverse order\n",
        "dcg, count = 0, 1\n",
        "for first, sec in rel_row_list_q4_sorted:\n",
        "    # using formula r1 + sigma(ri/log2(i)) : i = 2 to n\n",
        "    if count == 1:\n",
        "        dcg += int(first)\n",
        "    else:\n",
        "        dcg += int(first)/math.log2(count)\n",
        "    count += 1\n",
        "print(\"DCG for qid:4 = \", dcg)"
      ]
    },
    {
      "cell_type": "code",
      "execution_count": 5,
      "metadata": {
        "colab": {
          "base_uri": "https://localhost:8080/"
        },
        "id": "FjA_-r_jCwrU",
        "outputId": "02646a41-4888-415f-d7fd-d9e01a4d3af0"
      },
      "outputs": [
        {
          "name": "stdout",
          "output_type": "stream",
          "text": [
            "Total Possiblle arrangements with max dcg =  19893497375938370599826047614905329896936840170566570588205180312704857992695193482412686565431050240000000000000000000000\n"
          ]
        }
      ],
      "source": [
        "# total number of arrangements.\n",
        "totalPossibleArrangement = 1\n",
        "for key, val in rel_row_q4.items():\n",
        "    totalPossibleArrangement *= math.factorial(len(val))\n",
        "print(\"Total Possiblle arrangements with max dcg = \", totalPossibleArrangement)"
      ]
    },
    {
      "cell_type": "code",
      "execution_count": 6,
      "metadata": {
        "id": "xdfXBpETv7mB"
      },
      "outputs": [],
      "source": [
        "def calculateNDCG(rel_row_full):\n",
        "    # ndcg : normalized dcg\n",
        "    # maxdcg : maximum dcg (can be obtanined by sorting in reverse order and using dcg formula)\n",
        "    ndcg, dcg, maxdcg, count = 0, 0, 0, 1\n",
        "    for first, sec in rel_row_full:\n",
        "        # using formula r1 + sigma(ri/log2(i)) : i = 2 to n\n",
        "        if count == 1:\n",
        "            dcg += int(first)\n",
        "        else:\n",
        "            dcg += int(first)/math.log2(count)\n",
        "        count += 1\n",
        "    count = 1\n",
        "    # sorted to get the max dcg\n",
        "    sorted_rel_row_full = reversed(sorted(rel_row_full))\n",
        "\n",
        "    for first, sec in sorted_rel_row_full:\n",
        "        # using formula r1 + sigma(ri/log2(i)) : i = 2 to n\n",
        "        if count == 1:\n",
        "            maxdcg += int(first)\n",
        "        else:\n",
        "            maxdcg += int(first)/math.log2(count)\n",
        "        count += 1\n",
        "\n",
        "    ndcg = dcg/maxdcg\n",
        "    print(ndcg) "
      ]
    },
    {
      "cell_type": "code",
      "execution_count": 7,
      "metadata": {
        "colab": {
          "base_uri": "https://localhost:8080/"
        },
        "id": "W0z-t9osHF3u",
        "outputId": "c97c5de9-4274-4d34-b894-f4580e473b94"
      },
      "outputs": [
        {
          "name": "stdout",
          "output_type": "stream",
          "text": [
            "0.5253808413557646\n",
            "0.5979226516897831\n"
          ]
        }
      ],
      "source": [
        "# Question 2.3 \n",
        "\n",
        "# a)\n",
        "# compute ndcg for 50 documents\n",
        "\n",
        "calculateNDCG(rel_row_list_q4[:50])\n",
        "\n",
        "# b)\n",
        "# compute ndcg for whole documents\n",
        "calculateNDCG(rel_row_list_q4)"
      ]
    },
    {
      "cell_type": "code",
      "execution_count": 8,
      "metadata": {
        "colab": {
          "base_uri": "https://localhost:8080/"
        },
        "id": "n3g-YgcYKX7c",
        "outputId": "27d430f7-991a-4247-8e64-a32c15ee9081"
      },
      "outputs": [
        {
          "name": "stdout",
          "output_type": "stream",
          "text": [
            "[[972.826451, 0], [612.893205, 0], [571.500533, 0], [538.388954, 0], [528.520116, 1], [463.099129, 0], [439.396463, 1], [411.010633, 1], [316.319283, 0], [311.705149, 1], [305.102064, 0], [296.023694, 1], [292.184568, 1], [270.13233, 1], [237.21632, 1], [237.21632, 1], [226.444023, 0], [217.848266, 1], [212.401296, 0], [202.442155, 1], [201.720933, 0], [200.840161, 1], [200.840161, 0], [198.480212, 1], [192.953467, 1], [188.936782, 1], [188.129935, 0], [187.934366, 0], [186.375414, 0], [185.617459, 0], [180.720002, 0], [180.24324, 1], [177.168378, 0], [176.875026, 1], [176.000104, 0], [169.844071, 0], [166.683125, 1], [161.455583, 1], [161.455583, 0], [161.15638, 1], [157.05992, 1], [156.301965, 1], [148.415271, 0], [148.415271, 0], [144.564444, 0], [143.769297, 0], [143.445062, 1], [142.9683, 0], [142.589323, 1], [142.589323, 0], [142.038637, 1], [140.479685, 1], [130.655061, 0], [121.96152, 1], [121.814843, 1], [121.007996, 0], [108.548081, 1], [103.400313, 1], [98.418404, 0], [98.148911, 1], [95.257458, 0], [95.257458, 0], [94.958714, 1], [91.717534, 0], [91.160998, 0], [90.53171, 0], [89.877389, 1], [88.171761, 0], [85.805962, 1], [85.634253, 0], [84.625987, 1], [84.625987, 1], [84.625987, 1], [84.625987, 0], [84.625987, 0], [84.625987, 0], [84.625987, 0], [81.947653, 1], [81.140806, 1], [81.140806, 1], [79.630746, 0], [77.167163, 1], [76.360315, 0], [75.987188, 0], [74.434086, 0], [73.279603, 0], [71.646268, 0], [70.466293, 0], [70.460443, 0], [69.811973, 1], [68.100494, 0], [43.297629, 0], [42.227139, 1], [22.480108, 0], [22.419515, 0], [19.313312, 0], [18.133337, 1], [18.133337, 0], [15.773388, 0], [14.972391, 0], [14.972391, 0], [3.539923, 0], [3.539923, 0]]\n",
            "[0, 0, 0, 0, 1, 0, 1, 1, 0, 1, 0, 1, 1, 1, 1, 1, 0, 1, 0, 1, 0, 1, 0, 1, 1, 1, 0, 0, 0, 0, 0, 1, 0, 1, 0, 0, 1, 1, 0, 1, 1, 1, 0, 0, 0, 0, 1, 0, 1, 0, 1, 1, 0, 1, 1, 0, 1, 1, 0, 1, 0, 0, 1, 0, 0, 0, 1, 0, 1, 0, 1, 1, 1, 0, 0, 0, 0, 1, 1, 1, 0, 1, 0, 0, 0, 0, 0, 0, 0, 1, 0, 0, 1, 0, 0, 0, 1, 0, 0, 0, 0, 0, 0]\n"
          ]
        }
      ],
      "source": [
        "wholeDocRelList = [] # each element : [wholeDoc, rel]\n",
        "realRel = [] # relevance stored\n",
        "\n",
        "for rel, row in rel_row_list_q4:\n",
        "    # print(rel, row)\n",
        "    rel = 0 if rel == 0 else 1\n",
        "    wholeDoc = float(row[76][row[76].index(\":\")+1:]) # slicing and changing type to float of 75th column\n",
        "    # print(wholeDoc)\n",
        "    wholeDocRelList.append([ wholeDoc, rel])\n",
        "\n",
        "wholeDocRelList.sort(reverse = True)\n",
        "print(wholeDocRelList)\n",
        "realRel = [sec for first, sec in wholeDocRelList]\n",
        "print(realRel)"
      ]
    },
    {
      "cell_type": "code",
      "execution_count": 9,
      "metadata": {
        "colab": {
          "base_uri": "https://localhost:8080/",
          "height": 301
        },
        "id": "419HVWfpatcl",
        "outputId": "18142bcb-0b25-4d53-d6af-ef44f9727f30"
      },
      "outputs": [
        {
          "data": {
            "image/png": "[encoded data removed]",
            "text/plain": [
              "<Figure size 432x288 with 1 Axes>"
            ]
          },
          "metadata": {
            "needs_background": "light"
          },
          "output_type": "display_data"
        }
      ],
      "source": [
        "# Question 2.4\n",
        "precision_list = [] # list to store precision\n",
        "recall_list = [] # list to store recall\n",
        "\n",
        "relevant_till_now_count = 0 # relevant count while processing\n",
        "total_relevant_count  = sum(realRel)\n",
        "for i in range(1, len(realRel)+1):\n",
        "    relevant_till_now_count  += realRel[i-1] \n",
        "    precision_list.append(relevant_till_now_count/i) # keeping track of precision\n",
        "    recall_list.append(relevant_till_now_count/total_relevant_count) # keeping track of recall\n",
        "plt.plot(recall_list, precision_list)\n",
        "plt.xlabel(\"Recall\")\n",
        "plt.ylabel(\"Precision\")\n",
        "plt.show()\n",
        "\n",
        "# plot of recall-precision shown here"
      ]
    }
  ],
  "metadata": {
    "colab": {
      "collapsed_sections": [],
      "name": "Untitled20.ipynb",
      "provenance": []
    },
    "kernelspec": {
      "display_name": "Python 3",
      "name": "python3"
    },
    "language_info": {
      "codemirror_mode": {
        "name": "ipython",
        "version": 3
      },
      "file_extension": ".py",
      "mimetype": "text/x-python",
      "name": "python",
      "nbconvert_exporter": "python",
      "pygments_lexer": "ipython3",
      "version": "3.8.12"
    }
  },
  "nbformat": 4,
  "nbformat_minor": 0
}
